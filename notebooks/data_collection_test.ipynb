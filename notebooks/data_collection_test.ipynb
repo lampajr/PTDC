{
  "cells": [
    {
      "cell_type": "code",
      "execution_count": 14,
      "metadata": {
        "pycharm": {
          "is_executing": false
        }
      },
      "outputs": [],
      "source": "import tweepy\nimport numpy as np\nimport pandas as pd"
    },
    {
      "cell_type": "code",
      "execution_count": 15,
      "metadata": {
        "pycharm": {
          "is_executing": false
        }
      },
      "outputs": [],
      "source": [
        "consumer_key \u003d \"ouij6TL9OLOTb3Ca3lcyQ8yUd\"\n",
        "consumer_key_secret \u003d \"VLHEEt5wbB5Kfu5eX1n546CbMSWLJmFuE5c2386u4ljT1uJA71\"\n",
        "access_token \u003d \"425255853-66oQZ4Nw1c6rrjBL2f1M7dkucrrfeYqmUJMAcGfT\"\n",
        "access_token_secret \u003d \"J4OaU6rBjGyr7NBS4CyfY9CPaaeflRT7MVDbk2hFuMFMo\""
      ]
    },
    {
      "cell_type": "code",
      "execution_count": 16,
      "metadata": {
        "pycharm": {
          "is_executing": false
        }
      },
      "outputs": [],
      "source": "auth \u003d tweepy.OAuthHandler(consumer_key, consumer_key_secret)\nauth.set_access_token(access_token, access_token_secret)\napi \u003d tweepy.API(auth_handler\u003dauth, wait_on_rate_limit_notify\u003dTrue, wait_on_rate_limit\u003dTrue)"
    },
    {
      "cell_type": "code",
      "execution_count": 17,
      "outputs": [],
      "source": "_all_attributes \u003d np.array([\"id\", \"name\", \"screen_name\", \"location\", \"url\", \"description\", \"protected\",\n                            \"verified\", \"followers_count\", \"friends_count\", \"listed_count\", \"favourites_count\",\n                            \"statuses_count\", \"created_at\", \"geo_enabled\", \"lang\", \"contributors_enabled\",\n                            \"profile_background_color\", \"profile_background_image_url\",\n                            \"profile_background_image_url_https\", \"profile_background_tile\",\n                            \"profile_image_url\", \"profile_image_url_https\", \"profile_link_color\",\n                            \"profile_text_color\", \"profile_use_background_image\", \"default_profile\",\n                            \"default_profile_image\"])\n\n_size \u003d len(_all_attributes)\n\ndef create_twitter_account_dataframe(selectors):\n\n    \"\"\" Create an empty pandas DataFrame with specified attributes, suitable for storing user\u0027s information\n    :param selectors: Numpy array of booleans that tells which attribute keep, default: all True\n    \"\"\"\n\n    # keep only the attributes for which the boolean is set to True\n    _attributes \u003d _all_attributes[selectors]\n\n    # create empty DataFrame with specified attributes\n    _dataset \u003d pd.DataFrame(columns\u003d_attributes)\n    return _dataset\n\nclass UserDataCollector(object):\n\n    \"\"\" Data Collector that stores the accounts dataset:\n    provides methods for handling the data, adding new users, removing users..\"\"\"\n\n    def __init__(self, api, selectors\u003dNone):\n        self._selectors \u003d np.ones(_size, dtype\u003dbool) if selectors is None else selectors\n        self._dataset \u003d create_twitter_account_dataframe(selectors\u003dself._selectors)\n        self._api \u003d api\n\n    def get_data(self):\n\n        \"\"\" return the pandas DataFrame\"\"\"\n\n        return self._dataset\n\n    def add_user(self, screen_name):\n        user \u003d self._api.get_user(screen_name)\n        print(user.id)\n\n        # retrieve all information about single user\n        raw_data \u003d pd.Series([getattr(user, attr) for attr in _all_attributes], index\u003dself._dataset.columns)\n        raw_data \u003d raw_data[self._selectors]\n        self._dataset \u003d self._dataset.append(raw_data, ignore_index\u003dTrue)",
      "metadata": {
        "pycharm": {
          "metadata": false,
          "name": "#%%\n",
          "is_executing": false
        }
      }
    },
    {
      "cell_type": "code",
      "execution_count": 18,
      "outputs": [
        {
          "data": {
            "text/plain": "Empty DataFrame\nColumns: [id, name, screen_name, location, url, description, protected, verified, followers_count, friends_count, listed_count, favourites_count, statuses_count, created_at, geo_enabled, lang, contributors_enabled, profile_background_color, profile_background_image_url, profile_background_image_url_https, profile_background_tile, profile_image_url, profile_image_url_https, profile_link_color, profile_text_color, profile_use_background_image, default_profile, default_profile_image]\nIndex: []\n\n[0 rows x 28 columns]",
            "text/html": "\u003cdiv\u003e\n\u003cstyle scoped\u003e\n    .dataframe tbody tr th:only-of-type {\n        vertical-align: middle;\n    }\n\n    .dataframe tbody tr th {\n        vertical-align: top;\n    }\n\n    .dataframe thead th {\n        text-align: right;\n    }\n\u003c/style\u003e\n\u003ctable border\u003d\"1\" class\u003d\"dataframe\"\u003e\n  \u003cthead\u003e\n    \u003ctr style\u003d\"text-align: right;\"\u003e\n      \u003cth\u003e\u003c/th\u003e\n      \u003cth\u003eid\u003c/th\u003e\n      \u003cth\u003ename\u003c/th\u003e\n      \u003cth\u003escreen_name\u003c/th\u003e\n      \u003cth\u003elocation\u003c/th\u003e\n      \u003cth\u003eurl\u003c/th\u003e\n      \u003cth\u003edescription\u003c/th\u003e\n      \u003cth\u003eprotected\u003c/th\u003e\n      \u003cth\u003everified\u003c/th\u003e\n      \u003cth\u003efollowers_count\u003c/th\u003e\n      \u003cth\u003efriends_count\u003c/th\u003e\n      \u003cth\u003e...\u003c/th\u003e\n      \u003cth\u003eprofile_background_image_url\u003c/th\u003e\n      \u003cth\u003eprofile_background_image_url_https\u003c/th\u003e\n      \u003cth\u003eprofile_background_tile\u003c/th\u003e\n      \u003cth\u003eprofile_image_url\u003c/th\u003e\n      \u003cth\u003eprofile_image_url_https\u003c/th\u003e\n      \u003cth\u003eprofile_link_color\u003c/th\u003e\n      \u003cth\u003eprofile_text_color\u003c/th\u003e\n      \u003cth\u003eprofile_use_background_image\u003c/th\u003e\n      \u003cth\u003edefault_profile\u003c/th\u003e\n      \u003cth\u003edefault_profile_image\u003c/th\u003e\n    \u003c/tr\u003e\n  \u003c/thead\u003e\n  \u003ctbody\u003e\n  \u003c/tbody\u003e\n\u003c/table\u003e\n\u003cp\u003e0 rows × 28 columns\u003c/p\u003e\n\u003c/div\u003e"
          },
          "metadata": {},
          "output_type": "execute_result",
          "execution_count": 18
        }
      ],
      "source": "collector \u003d UserDataCollector(api\u003dapi)\ncollector.get_data().head()",
      "metadata": {
        "pycharm": {
          "metadata": false,
          "name": "#%%\n",
          "is_executing": false
        }
      }
    },
    {
      "cell_type": "code",
      "execution_count": 19,
      "outputs": [
        {
          "name": "stdout",
          "text": [
            "425255853\n"
          ],
          "output_type": "stream"
        },
        {
          "data": {
            "text/plain": "          id     name    screen_name location   url description protected  \\\n0  425255853  lampajr  AndreaLampa95           None                 False   \n\n  verified followers_count friends_count  ...  \\\n0    False              33            65  ...   \n\n                       profile_background_image_url  \\\n0  http://abs.twimg.com/images/themes/theme1/bg.png   \n\n                  profile_background_image_url_https profile_background_tile  \\\n0  https://abs.twimg.com/images/themes/theme1/bg.png                   False   \n\n                                   profile_image_url  \\\n0  http://pbs.twimg.com/profile_images/5869687479...   \n\n                             profile_image_url_https profile_link_color  \\\n0  https://pbs.twimg.com/profile_images/586968747...             91D2FA   \n\n  profile_text_color profile_use_background_image default_profile  \\\n0             000000                        False           False   \n\n  default_profile_image  \n0                 False  \n\n[1 rows x 28 columns]",
            "text/html": "\u003cdiv\u003e\n\u003cstyle scoped\u003e\n    .dataframe tbody tr th:only-of-type {\n        vertical-align: middle;\n    }\n\n    .dataframe tbody tr th {\n        vertical-align: top;\n    }\n\n    .dataframe thead th {\n        text-align: right;\n    }\n\u003c/style\u003e\n\u003ctable border\u003d\"1\" class\u003d\"dataframe\"\u003e\n  \u003cthead\u003e\n    \u003ctr style\u003d\"text-align: right;\"\u003e\n      \u003cth\u003e\u003c/th\u003e\n      \u003cth\u003eid\u003c/th\u003e\n      \u003cth\u003ename\u003c/th\u003e\n      \u003cth\u003escreen_name\u003c/th\u003e\n      \u003cth\u003elocation\u003c/th\u003e\n      \u003cth\u003eurl\u003c/th\u003e\n      \u003cth\u003edescription\u003c/th\u003e\n      \u003cth\u003eprotected\u003c/th\u003e\n      \u003cth\u003everified\u003c/th\u003e\n      \u003cth\u003efollowers_count\u003c/th\u003e\n      \u003cth\u003efriends_count\u003c/th\u003e\n      \u003cth\u003e...\u003c/th\u003e\n      \u003cth\u003eprofile_background_image_url\u003c/th\u003e\n      \u003cth\u003eprofile_background_image_url_https\u003c/th\u003e\n      \u003cth\u003eprofile_background_tile\u003c/th\u003e\n      \u003cth\u003eprofile_image_url\u003c/th\u003e\n      \u003cth\u003eprofile_image_url_https\u003c/th\u003e\n      \u003cth\u003eprofile_link_color\u003c/th\u003e\n      \u003cth\u003eprofile_text_color\u003c/th\u003e\n      \u003cth\u003eprofile_use_background_image\u003c/th\u003e\n      \u003cth\u003edefault_profile\u003c/th\u003e\n      \u003cth\u003edefault_profile_image\u003c/th\u003e\n    \u003c/tr\u003e\n  \u003c/thead\u003e\n  \u003ctbody\u003e\n    \u003ctr\u003e\n      \u003cth\u003e0\u003c/th\u003e\n      \u003ctd\u003e425255853\u003c/td\u003e\n      \u003ctd\u003elampajr\u003c/td\u003e\n      \u003ctd\u003eAndreaLampa95\u003c/td\u003e\n      \u003ctd\u003e\u003c/td\u003e\n      \u003ctd\u003eNone\u003c/td\u003e\n      \u003ctd\u003e\u003c/td\u003e\n      \u003ctd\u003eFalse\u003c/td\u003e\n      \u003ctd\u003eFalse\u003c/td\u003e\n      \u003ctd\u003e33\u003c/td\u003e\n      \u003ctd\u003e65\u003c/td\u003e\n      \u003ctd\u003e...\u003c/td\u003e\n      \u003ctd\u003ehttp://abs.twimg.com/images/themes/theme1/bg.png\u003c/td\u003e\n      \u003ctd\u003ehttps://abs.twimg.com/images/themes/theme1/bg.png\u003c/td\u003e\n      \u003ctd\u003eFalse\u003c/td\u003e\n      \u003ctd\u003ehttp://pbs.twimg.com/profile_images/5869687479...\u003c/td\u003e\n      \u003ctd\u003ehttps://pbs.twimg.com/profile_images/586968747...\u003c/td\u003e\n      \u003ctd\u003e91D2FA\u003c/td\u003e\n      \u003ctd\u003e000000\u003c/td\u003e\n      \u003ctd\u003eFalse\u003c/td\u003e\n      \u003ctd\u003eFalse\u003c/td\u003e\n      \u003ctd\u003eFalse\u003c/td\u003e\n    \u003c/tr\u003e\n  \u003c/tbody\u003e\n\u003c/table\u003e\n\u003cp\u003e1 rows × 28 columns\u003c/p\u003e\n\u003c/div\u003e"
          },
          "metadata": {},
          "output_type": "execute_result",
          "execution_count": 19
        }
      ],
      "source": "collector.add_user(\u0027AndreaLampa95\u0027)\ncollector.get_data().head()\n",
      "metadata": {
        "pycharm": {
          "metadata": false,
          "name": "#%%\n",
          "is_executing": false
        }
      }
    },
    {
      "cell_type": "code",
      "execution_count": null,
      "outputs": [],
      "source": "\n",
      "metadata": {
        "pycharm": {
          "metadata": false,
          "name": "#%%\n"
        }
      }
    }
  ],
  "metadata": {
    "kernelspec": {
      "display_name": "Python 3",
      "language": "python",
      "name": "python3"
    },
    "language_info": {
      "codemirror_mode": {
        "name": "ipython",
        "version": 3
      },
      "file_extension": ".py",
      "mimetype": "text/x-python",
      "name": "python",
      "nbconvert_exporter": "python",
      "pygments_lexer": "ipython3",
      "version": "3.6.5"
    }
  },
  "nbformat": 4,
  "nbformat_minor": 2
}